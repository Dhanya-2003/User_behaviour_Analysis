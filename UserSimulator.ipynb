{
 "cells": [
  {
   "cell_type": "code",
   "execution_count": 1,
   "metadata": {},
   "outputs": [],
   "source": [
    "from selenium import webdriver\n",
    "from selenium.webdriver.common.by import By\n",
    "import random\n",
    "import time\n",
    "from selenium.common.exceptions import NoSuchElementException"
   ]
  },
  {
   "cell_type": "code",
   "execution_count": 2,
   "metadata": {},
   "outputs": [],
   "source": [
    "functions = ['//*[@id=\"Dashboard\"]','//*[@id=\"Icons\"]','//*[@id=\"Maps\"]','//*[@id=\"Notifications\"]','//*[@id=\"User_Profile\"]','//*[@id=\"Table_List\"]','//*[@id=\"Typography\"]','/html/body/div[1]/div[2]/div[2]/div[1]/div/div/div[1]/div/div[2]/div/label[1]','/html/body/div[1]/div[2]/div[2]/div[1]/div/div/div[1]/div/div[2]/div/label[2]','/html/body/div[1]/div[2]/div[2]/div[1]/div/div/div[1]/div/div[2]/div/label[3]']"
   ]
  },
  {
   "cell_type": "code",
   "execution_count": 3,
   "metadata": {},
   "outputs": [
    {
     "name": "stdout",
     "output_type": "stream",
     "text": [
      "//*[@id=\"Dashboard\"]\n"
     ]
    }
   ],
   "source": [
    "print(functions[0])"
   ]
  },
  {
   "cell_type": "code",
   "execution_count": 4,
   "metadata": {},
   "outputs": [
    {
     "name": "stderr",
     "output_type": "stream",
     "text": [
      "C:\\Users\\H532671\\AppData\\Local\\Temp\\ipykernel_14672\\1304689959.py:1: DeprecationWarning: executable_path has been deprecated, please pass in a Service object\n",
      "  driver = webdriver.Chrome(executable_path=r'C:\\Users\\H532196\\Downloads\\chromedriver113\\chromedriver.exe');\n"
     ]
    },
    {
     "name": "stdout",
     "output_type": "stream",
     "text": [
      "//*[@id=\"Notifications\"]\n",
      "//*[@id=\"Typography\"]\n",
      "//*[@id=\"Dashboard\"]\n",
      "//*[@id=\"User_Profile\"]\n",
      "/html/body/div[1]/div[2]/div[2]/div[1]/div/div/div[1]/div/div[2]/div/label[1]\n"
     ]
    },
    {
     "ename": "WebDriverException",
     "evalue": "Message: disconnected: received Inspector.detached event\n  (failed to check if window was closed: disconnected: Unable to receive message from renderer)\n  (Session info: chrome=113.0.5672.127)\nStacktrace:\nBacktrace:\n\tGetHandleVerifier [0x00BB8893+48451]\n\t(No symbol) [0x00B4B8A1]\n\t(No symbol) [0x00A55058]\n\t(No symbol) [0x00A4924D]\n\t(No symbol) [0x00A48DDD]\n\t(No symbol) [0x00A48175]\n\t(No symbol) [0x00A4810C]\n\t(No symbol) [0x00A46D46]\n\t(No symbol) [0x00A475CA]\n\t(No symbol) [0x00A56F11]\n\t(No symbol) [0x00A574BF]\n\t(No symbol) [0x00A59631]\n\t(No symbol) [0x00A596D0]\n\t(No symbol) [0x00A800C0]\n\t(No symbol) [0x00A8069B]\n\t(No symbol) [0x00AADD92]\n\t(No symbol) [0x00A9A304]\n\t(No symbol) [0x00AAC482]\n\t(No symbol) [0x00A9A0B6]\n\t(No symbol) [0x00A77E08]\n\t(No symbol) [0x00A78F2D]\n\tGetHandleVerifier [0x00E18E3A+2540266]\n\tGetHandleVerifier [0x00E58959+2801161]\n\tGetHandleVerifier [0x00E5295C+2776588]\n\tGetHandleVerifier [0x00C42280+612144]\n\t(No symbol) [0x00B54F6C]\n\t(No symbol) [0x00B511D8]\n\t(No symbol) [0x00B512BB]\n\t(No symbol) [0x00B44857]\n\tBaseThreadInitThunk [0x766E00C9+25]\n\tRtlGetAppContainerNamedObjectPath [0x77BD7B4E+286]\n\tRtlGetAppContainerNamedObjectPath [0x77BD7B1E+238]\n",
     "output_type": "error",
     "traceback": [
      "\u001b[1;31m---------------------------------------------------------------------------\u001b[0m",
      "\u001b[1;31mWebDriverException\u001b[0m                        Traceback (most recent call last)",
      "\u001b[1;32m~\\AppData\\Local\\Temp\\ipykernel_14672\\1304689959.py\u001b[0m in \u001b[0;36m<module>\u001b[1;34m\u001b[0m\n\u001b[0;32m     16\u001b[0m     \u001b[1;31m# time.sleep(5)\u001b[0m\u001b[1;33m\u001b[0m\u001b[1;33m\u001b[0m\u001b[0m\n\u001b[0;32m     17\u001b[0m     \u001b[1;32mtry\u001b[0m\u001b[1;33m:\u001b[0m\u001b[1;33m\u001b[0m\u001b[1;33m\u001b[0m\u001b[0m\n\u001b[1;32m---> 18\u001b[1;33m         \u001b[0mdriver\u001b[0m\u001b[1;33m.\u001b[0m\u001b[0mfind_element\u001b[0m\u001b[1;33m(\u001b[0m\u001b[1;34m\"xpath\"\u001b[0m\u001b[1;33m,\u001b[0m\u001b[0mstr\u001b[0m\u001b[1;33m(\u001b[0m\u001b[0mrandom_element\u001b[0m\u001b[1;33m)\u001b[0m\u001b[1;33m)\u001b[0m\u001b[1;33m.\u001b[0m\u001b[0mclick\u001b[0m\u001b[1;33m(\u001b[0m\u001b[1;33m)\u001b[0m\u001b[1;33m\u001b[0m\u001b[1;33m\u001b[0m\u001b[0m\n\u001b[0m\u001b[0;32m     19\u001b[0m     \u001b[1;32mexcept\u001b[0m \u001b[0mNoSuchElementException\u001b[0m\u001b[1;33m:\u001b[0m\u001b[1;33m\u001b[0m\u001b[1;33m\u001b[0m\u001b[0m\n\u001b[0;32m     20\u001b[0m         \u001b[0mprint\u001b[0m\u001b[1;33m(\u001b[0m\u001b[1;34m\"Element with XPath does not exist\"\u001b[0m\u001b[1;33m)\u001b[0m\u001b[1;33m\u001b[0m\u001b[1;33m\u001b[0m\u001b[0m\n",
      "\u001b[1;32mc:\\Users\\H532671\\Anaconda3\\lib\\site-packages\\selenium\\webdriver\\remote\\webdriver.py\u001b[0m in \u001b[0;36mfind_element\u001b[1;34m(self, by, value)\u001b[0m\n\u001b[0;32m    828\u001b[0m             \u001b[0mvalue\u001b[0m \u001b[1;33m=\u001b[0m \u001b[1;34mf'[name=\"{value}\"]'\u001b[0m\u001b[1;33m\u001b[0m\u001b[1;33m\u001b[0m\u001b[0m\n\u001b[0;32m    829\u001b[0m \u001b[1;33m\u001b[0m\u001b[0m\n\u001b[1;32m--> 830\u001b[1;33m         \u001b[1;32mreturn\u001b[0m \u001b[0mself\u001b[0m\u001b[1;33m.\u001b[0m\u001b[0mexecute\u001b[0m\u001b[1;33m(\u001b[0m\u001b[0mCommand\u001b[0m\u001b[1;33m.\u001b[0m\u001b[0mFIND_ELEMENT\u001b[0m\u001b[1;33m,\u001b[0m \u001b[1;33m{\u001b[0m\u001b[1;34m\"using\"\u001b[0m\u001b[1;33m:\u001b[0m \u001b[0mby\u001b[0m\u001b[1;33m,\u001b[0m \u001b[1;34m\"value\"\u001b[0m\u001b[1;33m:\u001b[0m \u001b[0mvalue\u001b[0m\u001b[1;33m}\u001b[0m\u001b[1;33m)\u001b[0m\u001b[1;33m[\u001b[0m\u001b[1;34m\"value\"\u001b[0m\u001b[1;33m]\u001b[0m\u001b[1;33m\u001b[0m\u001b[1;33m\u001b[0m\u001b[0m\n\u001b[0m\u001b[0;32m    831\u001b[0m \u001b[1;33m\u001b[0m\u001b[0m\n\u001b[0;32m    832\u001b[0m     \u001b[1;32mdef\u001b[0m \u001b[0mfind_elements\u001b[0m\u001b[1;33m(\u001b[0m\u001b[0mself\u001b[0m\u001b[1;33m,\u001b[0m \u001b[0mby\u001b[0m\u001b[1;33m=\u001b[0m\u001b[0mBy\u001b[0m\u001b[1;33m.\u001b[0m\u001b[0mID\u001b[0m\u001b[1;33m,\u001b[0m \u001b[0mvalue\u001b[0m\u001b[1;33m:\u001b[0m \u001b[0mOptional\u001b[0m\u001b[1;33m[\u001b[0m\u001b[0mstr\u001b[0m\u001b[1;33m]\u001b[0m \u001b[1;33m=\u001b[0m \u001b[1;32mNone\u001b[0m\u001b[1;33m)\u001b[0m \u001b[1;33m->\u001b[0m \u001b[0mList\u001b[0m\u001b[1;33m[\u001b[0m\u001b[0mWebElement\u001b[0m\u001b[1;33m]\u001b[0m\u001b[1;33m:\u001b[0m\u001b[1;33m\u001b[0m\u001b[1;33m\u001b[0m\u001b[0m\n",
      "\u001b[1;32mc:\\Users\\H532671\\Anaconda3\\lib\\site-packages\\selenium\\webdriver\\remote\\webdriver.py\u001b[0m in \u001b[0;36mexecute\u001b[1;34m(self, driver_command, params)\u001b[0m\n\u001b[0;32m    438\u001b[0m         \u001b[0mresponse\u001b[0m \u001b[1;33m=\u001b[0m \u001b[0mself\u001b[0m\u001b[1;33m.\u001b[0m\u001b[0mcommand_executor\u001b[0m\u001b[1;33m.\u001b[0m\u001b[0mexecute\u001b[0m\u001b[1;33m(\u001b[0m\u001b[0mdriver_command\u001b[0m\u001b[1;33m,\u001b[0m \u001b[0mparams\u001b[0m\u001b[1;33m)\u001b[0m\u001b[1;33m\u001b[0m\u001b[1;33m\u001b[0m\u001b[0m\n\u001b[0;32m    439\u001b[0m         \u001b[1;32mif\u001b[0m \u001b[0mresponse\u001b[0m\u001b[1;33m:\u001b[0m\u001b[1;33m\u001b[0m\u001b[1;33m\u001b[0m\u001b[0m\n\u001b[1;32m--> 440\u001b[1;33m             \u001b[0mself\u001b[0m\u001b[1;33m.\u001b[0m\u001b[0merror_handler\u001b[0m\u001b[1;33m.\u001b[0m\u001b[0mcheck_response\u001b[0m\u001b[1;33m(\u001b[0m\u001b[0mresponse\u001b[0m\u001b[1;33m)\u001b[0m\u001b[1;33m\u001b[0m\u001b[1;33m\u001b[0m\u001b[0m\n\u001b[0m\u001b[0;32m    441\u001b[0m             \u001b[0mresponse\u001b[0m\u001b[1;33m[\u001b[0m\u001b[1;34m\"value\"\u001b[0m\u001b[1;33m]\u001b[0m \u001b[1;33m=\u001b[0m \u001b[0mself\u001b[0m\u001b[1;33m.\u001b[0m\u001b[0m_unwrap_value\u001b[0m\u001b[1;33m(\u001b[0m\u001b[0mresponse\u001b[0m\u001b[1;33m.\u001b[0m\u001b[0mget\u001b[0m\u001b[1;33m(\u001b[0m\u001b[1;34m\"value\"\u001b[0m\u001b[1;33m,\u001b[0m \u001b[1;32mNone\u001b[0m\u001b[1;33m)\u001b[0m\u001b[1;33m)\u001b[0m\u001b[1;33m\u001b[0m\u001b[1;33m\u001b[0m\u001b[0m\n\u001b[0;32m    442\u001b[0m             \u001b[1;32mreturn\u001b[0m \u001b[0mresponse\u001b[0m\u001b[1;33m\u001b[0m\u001b[1;33m\u001b[0m\u001b[0m\n",
      "\u001b[1;32mc:\\Users\\H532671\\Anaconda3\\lib\\site-packages\\selenium\\webdriver\\remote\\errorhandler.py\u001b[0m in \u001b[0;36mcheck_response\u001b[1;34m(self, response)\u001b[0m\n\u001b[0;32m    243\u001b[0m                 \u001b[0malert_text\u001b[0m \u001b[1;33m=\u001b[0m \u001b[0mvalue\u001b[0m\u001b[1;33m[\u001b[0m\u001b[1;34m\"alert\"\u001b[0m\u001b[1;33m]\u001b[0m\u001b[1;33m.\u001b[0m\u001b[0mget\u001b[0m\u001b[1;33m(\u001b[0m\u001b[1;34m\"text\"\u001b[0m\u001b[1;33m)\u001b[0m\u001b[1;33m\u001b[0m\u001b[1;33m\u001b[0m\u001b[0m\n\u001b[0;32m    244\u001b[0m             \u001b[1;32mraise\u001b[0m \u001b[0mexception_class\u001b[0m\u001b[1;33m(\u001b[0m\u001b[0mmessage\u001b[0m\u001b[1;33m,\u001b[0m \u001b[0mscreen\u001b[0m\u001b[1;33m,\u001b[0m \u001b[0mstacktrace\u001b[0m\u001b[1;33m,\u001b[0m \u001b[0malert_text\u001b[0m\u001b[1;33m)\u001b[0m  \u001b[1;31m# type: ignore[call-arg]  # mypy is not smart enough here\u001b[0m\u001b[1;33m\u001b[0m\u001b[1;33m\u001b[0m\u001b[0m\n\u001b[1;32m--> 245\u001b[1;33m         \u001b[1;32mraise\u001b[0m \u001b[0mexception_class\u001b[0m\u001b[1;33m(\u001b[0m\u001b[0mmessage\u001b[0m\u001b[1;33m,\u001b[0m \u001b[0mscreen\u001b[0m\u001b[1;33m,\u001b[0m \u001b[0mstacktrace\u001b[0m\u001b[1;33m)\u001b[0m\u001b[1;33m\u001b[0m\u001b[1;33m\u001b[0m\u001b[0m\n\u001b[0m",
      "\u001b[1;31mWebDriverException\u001b[0m: Message: disconnected: received Inspector.detached event\n  (failed to check if window was closed: disconnected: Unable to receive message from renderer)\n  (Session info: chrome=113.0.5672.127)\nStacktrace:\nBacktrace:\n\tGetHandleVerifier [0x00BB8893+48451]\n\t(No symbol) [0x00B4B8A1]\n\t(No symbol) [0x00A55058]\n\t(No symbol) [0x00A4924D]\n\t(No symbol) [0x00A48DDD]\n\t(No symbol) [0x00A48175]\n\t(No symbol) [0x00A4810C]\n\t(No symbol) [0x00A46D46]\n\t(No symbol) [0x00A475CA]\n\t(No symbol) [0x00A56F11]\n\t(No symbol) [0x00A574BF]\n\t(No symbol) [0x00A59631]\n\t(No symbol) [0x00A596D0]\n\t(No symbol) [0x00A800C0]\n\t(No symbol) [0x00A8069B]\n\t(No symbol) [0x00AADD92]\n\t(No symbol) [0x00A9A304]\n\t(No symbol) [0x00AAC482]\n\t(No symbol) [0x00A9A0B6]\n\t(No symbol) [0x00A77E08]\n\t(No symbol) [0x00A78F2D]\n\tGetHandleVerifier [0x00E18E3A+2540266]\n\tGetHandleVerifier [0x00E58959+2801161]\n\tGetHandleVerifier [0x00E5295C+2776588]\n\tGetHandleVerifier [0x00C42280+612144]\n\t(No symbol) [0x00B54F6C]\n\t(No symbol) [0x00B511D8]\n\t(No symbol) [0x00B512BB]\n\t(No symbol) [0x00B44857]\n\tBaseThreadInitThunk [0x766E00C9+25]\n\tRtlGetAppContainerNamedObjectPath [0x77BD7B4E+286]\n\tRtlGetAppContainerNamedObjectPath [0x77BD7B1E+238]\n"
     ]
    }
   ],
   "source": [
    "driver = webdriver.Chrome(executable_path=r'C:\\Users\\H532196\\Downloads\\chromedriver113\\chromedriver.exe');\n",
    "driver.maximize_window()\n",
    "driver.implicitly_wait(20)\n",
    "driver.get(\"http://127.0.0.1:8000/\") \n",
    "driver.find_element(\"xpath\",'//*[@id=\"id_username\"]').send_keys(\"admin\")\n",
    "driver.find_element(\"xpath\",'//*[@id=\"id_password\"]').send_keys(\"admin\")\n",
    "button = driver.find_element(\"xpath\",'/html/body/div[1]/div/div/div/div/div/div/form/div[2]/button')\n",
    "button.click()\n",
    "# driver.find_element(\"xpath\",'/html/body/div[1]/div[1]/div/ul/li[2]/a/p').click()\n",
    "# driver.find_element(\"xpath\", '//*[@id=\"Icons\"]').click()\n",
    "while (True):\n",
    "    random_element = random.choice(functions)\n",
    "    # link = '//*[@id=\"User_Profile\"]'\n",
    "    print(random_element)\n",
    "    # driver.find_element(\"xpath\",str(random_element)).click()\n",
    "    # time.sleep(5)\n",
    "    try:\n",
    "        driver.find_element(\"xpath\",str(random_element)).click()\n",
    "    except NoSuchElementException:\n",
    "        print(\"Element with XPath does not exist\")\n",
    "        random_element = random.choice(functions)\n",
    "        "
   ]
  }
 ],
 "metadata": {
  "kernelspec": {
   "display_name": "base",
   "language": "python",
   "name": "python3"
  },
  "language_info": {
   "codemirror_mode": {
    "name": "ipython",
    "version": 3
   },
   "file_extension": ".py",
   "mimetype": "text/x-python",
   "name": "python",
   "nbconvert_exporter": "python",
   "pygments_lexer": "ipython3",
   "version": "3.9.13"
  },
  "orig_nbformat": 4
 },
 "nbformat": 4,
 "nbformat_minor": 2
}
