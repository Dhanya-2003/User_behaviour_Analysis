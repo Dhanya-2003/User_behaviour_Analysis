{
 "cells": [
  {
   "cell_type": "code",
   "execution_count": 77,
   "id": "c84b1fbe",
   "metadata": {},
   "outputs": [
    {
     "name": "stdout",
     "output_type": "stream",
     "text": [
      "      type geometry.type  geometry.coordinates    properties.city  \\\n",
      "0  Feature         Point    [15.3215, -4.3246]           Kinshasa   \n",
      "1  Feature         Point   [106.8451, -6.2146]            Jakarta   \n",
      "2  Feature         Point  [168.2227, -77.6554]    McMurdo Station   \n",
      "0  Feature         Point    [15.3215, -4.3246]           Kinshasa   \n",
      "1  Feature         Point   [47.5361, -18.9137]       Antananarivo   \n",
      "2  Feature         Point     [70.2167, -49.35]  Port-aux-Francais   \n",
      "0  Feature         Point   [-25.6667, 37.7333]      Ponta Delgada   \n",
      "1  Feature         Point   [-23.5087, 14.9215]              Praia   \n",
      "2  Feature         Point    [-7.6192, 33.5928]         Casablanca   \n",
      "3  Feature         Point     [-4.0197, 5.3094]            Abidjan   \n",
      "0  Feature         Point  [-119.3399, 76.2346]          Mould Bay   \n",
      "\n",
      "   properties.clouds properties.country  properties.humidity  \\\n",
      "0                 79                 CD                   74   \n",
      "1                 40                 ID                   63   \n",
      "2                100                 AQ                   90   \n",
      "0                 79                 CD                   74   \n",
      "1                 75                 MG                   78   \n",
      "2                  9                 TF                   73   \n",
      "0                 20                 PT                   58   \n",
      "1                 75                 CV                   73   \n",
      "2                100                 MA                   77   \n",
      "3                 75                 CI                   94   \n",
      "0                 58                 CA                   92   \n",
      "\n",
      "   properties.pressure  properties.temp  properties.feels_like  \\\n",
      "0                 1009            28.10                  31.43   \n",
      "1                 1005            32.89                  39.89   \n",
      "2                  987           -15.64                 -22.64   \n",
      "0                 1009            28.10                  31.43   \n",
      "1                 1020            20.98                  21.17   \n",
      "2                 1006             5.45                  -0.91   \n",
      "0                 1008            14.40                  13.41   \n",
      "1                 1014            22.30                  22.49   \n",
      "2                 1011            17.96                  17.82   \n",
      "3                 1011            24.98                  25.99   \n",
      "0                 1032           -23.63                 -30.63   \n",
      "\n",
      "   properties.wind_deg  properties.wind_speed  \n",
      "0                  247                   0.51  \n",
      "1                   50                   4.12  \n",
      "2                  253                   3.38  \n",
      "0                  247                   0.51  \n",
      "1                  140                   2.06  \n",
      "2                  280                  15.03  \n",
      "0                  280                   9.26  \n",
      "1                   20                   6.69  \n",
      "2                  280                   1.79  \n",
      "3                  140                   3.09  \n",
      "0                  328                   3.80  \n"
     ]
    }
   ],
   "source": [
    "import json\n",
    "import requests\n",
    "import pandas as pd\n",
    "\n",
    "def df_create(api_url):\n",
    "    \n",
    "    response = requests.get(api_url)\n",
    "    json_data = response.json()\n",
    "\n",
    "    # Convert JSON data to a Python object\n",
    "    py_obj = json.dumps(json_data)\n",
    "    data = json.loads(py_obj)\n",
    "\n",
    "    if 'features' in data:\n",
    "        df = pd.json_normalize(data, record_path=['features'])\n",
    "        return df\n",
    "    # do something with df\n",
    "    else:\n",
    "        return pd.DataFrame()\n",
    "    \n",
    "\n",
    "lst =['1', '2', '3', '5', '12']\n",
    "final_df = pd.DataFrame()\n",
    "\n",
    "for x in lst:\n",
    "    url =\"https://b.maps.owm.io/weather/cities/\"+x+\"/\"+x+\"/\"+x+\".geojson?appid=b1b15e88fa797225412429c1c50c122a1\"\n",
    "    df = df_create(url)\n",
    "    final_df = pd.concat([final_df, df])\n",
    "\n",
    "print(final_df)\n"
   ]
  },
  {
   "cell_type": "code",
   "execution_count": 79,
   "id": "c234b6c5",
   "metadata": {},
   "outputs": [],
   "source": [
    "final_df.to_csv('my_data.csv', index=False)"
   ]
  },
  {
   "cell_type": "code",
   "execution_count": null,
   "id": "9d6d1c31",
   "metadata": {},
   "outputs": [],
   "source": []
  }
 ],
 "metadata": {
  "kernelspec": {
   "display_name": "Python 3 (ipykernel)",
   "language": "python",
   "name": "python3"
  },
  "language_info": {
   "codemirror_mode": {
    "name": "ipython",
    "version": 3
   },
   "file_extension": ".py",
   "mimetype": "text/x-python",
   "name": "python",
   "nbconvert_exporter": "python",
   "pygments_lexer": "ipython3",
   "version": "3.9.13"
  }
 },
 "nbformat": 4,
 "nbformat_minor": 5
}
